{
 "cells": [
  {
   "cell_type": "code",
   "execution_count": 6,
   "metadata": {
    "collapsed": true
   },
   "outputs": [],
   "source": [
    "import os\n",
    "import sys\n",
    "from pathlib import Path\n",
    "from os import PathLike\n",
    "\n",
    "import numpy as np\n",
    "import pandas as pd\n",
    "import matplotlib.pyplot as plt"
   ]
  },
  {
   "cell_type": "code",
   "execution_count": 7,
   "outputs": [],
   "source": [
    "lyrics_data_path = Path.cwd() / \"data/lyrics-database\""
   ],
   "metadata": {
    "collapsed": false,
    "pycharm": {
     "name": "#%%\n"
    }
   }
  },
  {
   "cell_type": "code",
   "execution_count": 8,
   "outputs": [],
   "source": [
    "# read in the data\n",
    "songs = []\n",
    "for leading_letter in lyrics_data_path.glob(\"*\"):\n",
    "    for author_name in leading_letter.glob(\"*\"):\n",
    "        for album_name in author_name.glob(\"*\"):\n",
    "            for song_name in album_name.glob(\"*\"):\n",
    "                song_lyrics = song_name.read_text(encoding='utf-8')\n",
    "                songs.append({\n",
    "                    \"author\": author_name.stem,\n",
    "                    \"album\": album_name.stem,\n",
    "                    \"song\": song_name.stem,\n",
    "                    \"lyrics\": song_lyrics\n",
    "                })"
   ],
   "metadata": {
    "collapsed": false,
    "pycharm": {
     "name": "#%%\n"
    }
   }
  },
  {
   "cell_type": "code",
   "execution_count": 9,
   "outputs": [
    {
     "data": {
      "text/plain": "              author              album           song  \\\n0       3 Doors Down  Away from the Sun  When I'm Gone   \n1       3 Doors Down    The Better Life     Kryptonite   \n2  A Day To Remember    Common Courtesy     Best Of Me   \n3  A Day To Remember    Common Courtesy  City Of Ocala   \n4  A Day To Remember    Common Courtesy  Dead & Buried   \n\n                                              lyrics  \n0  There’s another world inside of me\\nThat you m...  \n1  I took a walk around the world to ease my trou...  \n2  What’d you expect from me?\\nIt’s not my fault ...  \n3  Fuck ya!\\n\\nRemember way back when? They said ...  \n4  Let me find the way that I can make do\\nWithou...  ",
      "text/html": "<div>\n<style scoped>\n    .dataframe tbody tr th:only-of-type {\n        vertical-align: middle;\n    }\n\n    .dataframe tbody tr th {\n        vertical-align: top;\n    }\n\n    .dataframe thead th {\n        text-align: right;\n    }\n</style>\n<table border=\"1\" class=\"dataframe\">\n  <thead>\n    <tr style=\"text-align: right;\">\n      <th></th>\n      <th>author</th>\n      <th>album</th>\n      <th>song</th>\n      <th>lyrics</th>\n    </tr>\n  </thead>\n  <tbody>\n    <tr>\n      <th>0</th>\n      <td>3 Doors Down</td>\n      <td>Away from the Sun</td>\n      <td>When I'm Gone</td>\n      <td>There’s another world inside of me\\nThat you m...</td>\n    </tr>\n    <tr>\n      <th>1</th>\n      <td>3 Doors Down</td>\n      <td>The Better Life</td>\n      <td>Kryptonite</td>\n      <td>I took a walk around the world to ease my trou...</td>\n    </tr>\n    <tr>\n      <th>2</th>\n      <td>A Day To Remember</td>\n      <td>Common Courtesy</td>\n      <td>Best Of Me</td>\n      <td>What’d you expect from me?\\nIt’s not my fault ...</td>\n    </tr>\n    <tr>\n      <th>3</th>\n      <td>A Day To Remember</td>\n      <td>Common Courtesy</td>\n      <td>City Of Ocala</td>\n      <td>Fuck ya!\\n\\nRemember way back when? They said ...</td>\n    </tr>\n    <tr>\n      <th>4</th>\n      <td>A Day To Remember</td>\n      <td>Common Courtesy</td>\n      <td>Dead &amp; Buried</td>\n      <td>Let me find the way that I can make do\\nWithou...</td>\n    </tr>\n  </tbody>\n</table>\n</div>"
     },
     "execution_count": 9,
     "metadata": {},
     "output_type": "execute_result"
    }
   ],
   "source": [
    "df_songs = pd.DataFrame(songs)\n",
    "df_songs.head()"
   ],
   "metadata": {
    "collapsed": false,
    "pycharm": {
     "name": "#%%\n"
    }
   }
  },
  {
   "cell_type": "code",
   "execution_count": 10,
   "outputs": [
    {
     "name": "stdout",
     "output_type": "stream",
     "text": [
      "Setting song-I Need You Tonight-ZZ Top-Eliminator\reans Anything At Allesolineium & Terminus)e1nggingnggingergingtionfs)co-A Fever You Can't Sweat Out-Thirteenth StepSetting song-Ja Ja, ich weiß-Adam Angst-Adam AngstSetting song-Black Velvet-Alannah Myles-Alannah MylesSetting song-Seen to Run-Alaska Highway-Attitudes of a Difficult MindSetting song-Uzumaki (Hybrid Mix)-Alaska Highway-ClosureSetting song-Would-Alice In Chains-DirtSetting song-Hollow-Alice In Chains-The Devil Put Dinosaurs HereSetting song-Hel-Amon Amarth-Deceiver of the GodsSetting song-Past Represents the Future-Anthony Rother-Sex With the MachinesSetting song-Windowlicker-Aphex Twin-WindowlickerSetting song-Phantom Fear-Architects-All Our Gods Have Abandoned UsSetting song-Naysayer-Architects-Lost Forever ∕∕ Lost TogetherSetting song-Stick Me In My Heart-Archive-With Us Until You're DeadSetting song-Numb-Archive-You All Look The Same To MeSetting song-Nothing Left-As I Lay Dying-An Ocean Between UsSetting song-Unwound (Awakened B Side Demo)-As I Lay Dying-AwakenedSetting song-Undefined-As I Lay Dying-Frail Words CollapseSetting song-Through Struggle-As I Lay Dying-Shadows Are SecuritySetting song-Without Conclusion-As I Lay Dying-The Powerless RiseSetting song-White Line Fever-Asking Alexandria-From Death To DestinySetting song-Not The American Average-Asking Alexandria-Stand Up And ScreamSetting song-Start the Riot!-Atari Teenage Riot-Delete YourselfSetting song-We Are from the Internet-Atari Teenage Riot-ResetSetting song-Critical Acclaim-Avenged Sevenfold-Avenged SevenfoldSetting song-So Far Away-Avenged Sevenfold-NightmareSetting song-Salute E Vita-Being As An Ocean-Dear G-DSetting song-L'exquisite Douleur-Being As An Ocean-How We Both Wondrously PerishSetting song-Adam in Chains-Billy Idol-CyberpunkSetting song-Leave Them All Behind-Billy Talent-Afraid of HeightsSetting song-Perfect World-Billy Talent-Billy Talent IISetting song-Farting With A Walkman On-Bloodhound Gang-Hefty FineSetting song-Uhn Tiss Uhn Tiss Uhn Tiss-Bloodhound Gang-Hefty FineSetting song-Flesh First-Boy Harsher-CarefulSetting song-Westerners-Boy Harsher-Country Girl UncutSetting song-Intro-Boy Harsher-Yr Body Is NothingSetting song-Nobody Moves (Demo 2006)-Brand New-Leaked Demos 2006Setting song-You Won't Know-Brand New-The Devil And God Are Raging Inside MeSetting song-When Silence Breaks-Breakdown of Sanity-MirrorsSetting song-Cancer's Breath-Breakdown of Sanity-The Last SunsetSetting song-Close Your Eyes-Breaking Benjamin-EmberSetting song-Had Enough-Breaking Benjamin-PhobiaSetting song-Follow-Breaking Benjamin-We Are Not AloneSetting song-Can You Feel My Heart-Bring Me The Horizon-SempiternalSetting song-Happy Song-Bring Me The Horizon-ThroneSetting song-Meine Sache-Broilers-VanitasSetting song-I Am Ghost-Caliban-Ghost EmpireSetting song-Die Die My Darling-Caliban-I Am NemesisSetting song-It's Our Burden To Bleed-Caliban-The Undying DarknessSetting song-Kojote UGLY-Callejon-BlitzkreuzSetting song-MfG-Callejon-Man spricht DeutschSetting song-Sexmachine-Callejon-VideodromSetting song-Unter Tage-Callejon-Wir sind AngstSetting song-Zombiefied-Callejon-ZombieactionhauptquartierSetting song-Gone Cold-Clutch-Earth RockerSetting song-Goodbye, Megaton-Counterparts-ProphetsSetting song-Pedestal-Counterparts-The Current Will Carry UsSetting song-Lost-Counterparts-The Difference Between Hell and HomeSetting song-An Oceans Greed-Crying Vessel-NecrozineSetting song-Ancient Moon-Crying Vessel-SelflessSetting song-Horror Head-Curve-DoppelgängerSetting song-Blindfold-Curve-Pubic FruitSetting song-Get It Anyway-Cypress Hill-Rise UpSetting song-Get Lucky - Radio Edit-Daft Punk-Get LuckySetting song-Soul Bleed-Damageplan-New Found PowerSetting song-Any Other Way-Dead Astronauts-Arms Of NightSetting song-Falling Behind-Dead by April-Dead by AprilSetting song-Calling-Dead by April-IncomparableSetting song-You Should Know-Dead by April-IncomparableSetting song-One Trick Pony-Deadmau5-4x4=12Setting song-The Oshawa Connection-Deadmau5-Get ScrapedSetting song-Shot After Shot-Deez Nuts-Bout ItSetting song-I Don't Mind-Defeater-Empty Days & Sleepless NightsSetting song-No Savior-Defeater-Letters HomeSetting song-The Blues-Defeater-TravelsSetting song-The Dead Of Night-Depeche Mode-ExciterSetting song-Flimmern-Die Goldenen Zitronen-Kein Mensch ist IllegalSetting song-Walk Of Life-Dire Straits-The Best of Dire Straits & Mark Knopfler - Private InvestigationsSetting song-Zeit bleib stehen!-Dritte Wahl-FortschrittSetting song-Sei Mein Wurm-Dödelhaie-Schätzchen, Ich Habe Das Land Befreit!Setting song-One-Ed Sheeran-xSetting song-Raven gegen Deutschland (Frittenbude Indiefresse Remix)-Egotronic-Kotzen Raven gegen DeutschlandSetting song-Quoth The Raven-Eluveitie-Everything Remains [As It Never Was]Setting song-A Rose For Epona-Eluveitie-HelvetiosSetting song-The Uprising-Eluveitie-HelvetiosSetting song-Virunus-Eluveitie-OriginsSetting song-Siraxta-Eluveitie-The Early YearsSetting song-Gold Dust-Emarosa-VersusSetting song-We Are the People-Empire of the Sun-Walking on a DreamSetting song-The Last Garrison-Enter Shikari-The Last GarrisonSetting song-Freiflug-Equilibrium-ErdentempelSetting song-Something-Escape the Fate-This War Is OursSetting song-Naked in Front of the Computer-Faith No More-Album of the YearSetting song-Kindergarten-Faith No More-Angel DustSetting song-Epic-Faith No More-The Real ThingSetting song-Underwater Love-Faith No More-The Real ThingSetting song-…In Time…-Fear Cult-Visionary ComplexSetting song-Warten auf das Meer-Feine Sahne Fischfilet-Bleiben oder gehenSetting song-Dorffeste im Herbst-Feine Sahne Fischfilet-Scheitern und VerstehenSetting song-Mit Dir-Feine Sahne Fischfilet-Scheitern und VerstehenSetting song-Da Draussen-Fettes Brot-Fettes Brot Für Die WeltSetting song-Hallo Zukunft-Fjørt-D'accordSetting song-Handlebars-Flobots-Fight With ToolsSetting song-Bilder mit Katze-Frittenbude-KatzengoldSetting song-Exo-Front Line Assembly-EchogeneticSetting song-Reichenbach Falls (Blood in the Water)-Ghost Cop-End CreditsSetting song-Love is in My World-Girls Under Glass-ZyklusSetting song-Deconstruct-Godhead-EvolverSetting song-Letting Go-Godhead-NothingnessSetting song-Negativmaske-Goethes Erben-DazwischenSetting song-21 Guns-Green Day-21st Century BreakdownSetting song-Meine Sonne-Grossstadtgeflüster-Oh, ein Reh!Setting song-The Future-Have A Nice Life-DeathconsciousnessSetting song-Like A Thousand Suns-Heaven Shall Burn-Iconoclast, Part 1 - The Final ResistanceSetting song-The Lie You Bleed For-Heaven Shall Burn-InvictusSetting song-Lion-Hollywood Undead-Notes From The UndergroundSetting song-Monumental Part II-Hundredth-Let GoSetting song-Greater-Hundredth-When Will We SurrenderSetting song-Feuertaufe-In Extremo-KunstraubSetting song-Reflect The Storm-In Flames-Come ClaritySetting song-Rusted Nail-In Flames-Siren CharmsSetting song-Ropes-In Flames-Sounds Of A Playground FadingSetting song-Noise Maker-Infected Mushroom-B.PSetting song-Never Tear Us Apart-INXS-KickSetting song-Rebelles-Irie Révoltés-VoyageSetting song-Innocent Exile-Iron Maiden-KillersSetting song-Crazy-Jerkstore-Jerks Rule!!Setting song-Tech Noir∕ 霓虹鸡尾酒-JK∕47-Future City Dating ServiceSetting song-BBW-JPEGMAFIA-All My Heroes Are CornballsSetting song-Rap Grow Old & Die x No Child Left Behind-JPEGMAFIA-All My Heroes Are CornballsSetting song-Ennoea-Keluar-KeluarSetting song-Closer-Kings of Leon-Only By The NightSetting song-Wir-KIZ-Hurra die Welt geht unterSetting song-Bonfire-Knife Party-Rage Valley EPSetting song-Twisted Transistor-Korn-See You on the Other SideSetting song-Twisted Transistor (radio version)-Korn-Twisted TransistorSetting song-Objects in Space-La Dispute-Rooms of the HouseSetting song-Said the King to the River-La Dispute-Somewhere at the Bottom of the River Between Vega and AltairSetting song-a Letter-La Dispute-WildlifeSetting song-Break You-Lamb of God-Ashes Of The WakeSetting song-Burning in the Skies-Linkin Park-A Thousand SunsSetting song-A Place for My Head-Linkin Park-Hybrid TheorySetting song-Burn it Down-Linkin Park-Living ThingsSetting song-Easier to Run-Linkin Park-MeteoraSetting song-In Between-Linkin Park-Minutes to MidnightSetting song-One More Light-Linkin Park-One More LightSetting song-Now We Are Free-Lisa Gerrard-Gladiator - Music From The Motion PictureSetting song-Turn Me Loose-Loverboy-Rock n Roll RevivalSetting song-I Don't Know Anything-Mad Season-AboveSetting song-Lockdown-Madball-Set It OffSetting song-Grüner Samt-Marsimoto-Grüner SamtSetting song-Splitting The Atom-Massive Attack-HeligolandSetting song-Maybe So, Maybe No-Mayer Hawthorne-A Strange ArrangementSetting song-ObZen-Meshuggah-ObZenSetting song-C-Minor-MewithoutYou-Brother, SisterSetting song-Extreme Ways-Moby-18Setting song-Helden-Moop Mama-Deine MutterSetting song-I Like It (Radio Edit)-Narcotic Thrust-I Like ItSetting song-Get Me Out-New Model Army-ImpuritySetting song-Don’t Fly Too High-Nicole-Don’t Fly Too HighSetting song-Come Alive-Nitzer Ebb-As IsSetting song-Split the Atom-Noisia-Split the AtomSetting song-Let Live-Of Mice & Men-The FloodSetting song-Stadt ohne Meer-OK KID-OK KIDSetting song-Hope Leaves-Opeth-DamnationSetting song-Isolation Years-Opeth-Ghost ReveriesSetting song-Heir Apparent-Opeth-WatershedSetting song-London Beckoned Songs About Money Written By Machines-Panic At The Disco-A Fever You Can't Sweat OutSetting song-The Only Difference Between Martyrdom and Suicide is Press Coverage-Panic At The Disco-A Fever You Can't Sweat OutSetting song-Victorious-Panic At The Disco-Death Of A BachelorSetting song-That Green Gentleman (Things Have Changed)-Panic At The Disco-Pretty OddSetting song-Always-Panic At The Disco-Vices & VirtuesSetting song-All Over Tonight-Pantera-Projects In The JungleSetting song-Snake Oil and Holy Water-Parkway Drive-AtlasSetting song-Zwickau sehen und sterben-Pascow-Diene der PartySetting song-Tarantula (Ft-Pendulum-Hold Your ColourSetting song-Witchcraft-Pendulum-ImmersionSetting song-Witchcraft (Jackal Queenston RMX)-Pendulum-ON Trax VolSetting song-DENIM-PICTURE PERFECT-ep2Setting song-Collapse The Light Into Earth-Porcupine Tree-In AbsentiaSetting song-Ende Blut, alles Blut-Prinz Pi-Kompass ohne NordenSetting song-Time's Arrow-Prurient-Time's ArrowSetting song-Renegades Of Funk-Rage Against The Machine-RenegadesSetting song-Losing My Religion-REM-Out of TimeSetting song-From Heads Unworthy-Rise Against-Appeal To ReasonSetting song-Broken English-Rise Against-Revolutions Per MinuteSetting song-People Live Here-Rise Against-The Black MarketSetting song-Smooth Operator-Sade-The Best of SadeSetting song-Schlaf In Den Flammen-Samsas Traum-Heiliges Herz - Das Schwert Deiner SonneSetting song-Tippelbruder-Schandmaul-UnendlichSetting song-I'm The One-Seether-Karma & EffectSetting song-God Save The Queen-Sex Pistols-Never Mind The Bollocks, Here’s The Sex PistolsSetting song-Burn-Sister Machine Gun-BurnSetting song-Addiction-Skinny Puppy-Cleanse Fold and ManipulateSetting song-Bullenschweine-Slime-Slime ISetting song-Skeptic-Slipknot-5 - The Gray ChapterSetting song-Gehenna-Slipknot-All Hope Is GoneSetting song-No Guns Allowed-Snoop Lion-ReincarnatedSetting song-Coconut-Spor-CaligoSetting song-Prostitution of the Extinct-Stereotaxic Device-Stereotaxic DeviceSetting song-Amber-Stick To Your Guns-The Hope DivisionSetting song-Cardiff-Stone Sour-Come What(ever) MaySetting song-Inhale-Stone Sour-Stone SourSetting song-Pieces-Sum 41-ChuckSetting song-Nachtjacke-Supershirt-Audiolith - Doin' Our ThingSetting song-The End Of Innocence-Symphony X-IconoclastSetting song-Lost In Hollywood-System of a Down-MezmerizeSetting song-Innervision-System of a Down-Steal This Album!Setting song-Open Letter-The Amity Affliction-Chasing GhostsSetting song-Reptile-The Church-StarfishSetting song-Mr-The Electric Hellfire Club-Burn, Baby, BurnSetting song-Move Me-The Ghost Inside-Dear YouthSetting song-Slipping Away-The Ghost Inside-Get What You GiveSetting song-Pillow Talk-The Killing Tree-Bury Me At Make-Out CreekSetting song-1968-The Last Internationale-We Will ReignSetting song-Crystalline-The Midnight-NocturnalSetting song-Self Esteem-The Offspring-SmashSetting song-World's on Fire-The Prodigy-Invaders Must DieSetting song-Wild Frontier-The Prodigy-The Day Is My EnemySetting song-Don't Hate-The Red Jumpsuit Apparatus-The Hell Or High Water EPSetting song-I Can't Escape Myself-The Sound-JeopardySetting song-Love, Reign O’er Me-The Who-QuadropheniaSetting song-Bad Girlfriend-Theory of a Deadman-Scars & SouvenirsSetting song-Break-Three Days Grace-Life Starts NowSetting song-Riot-Three Days Grace-Life Starts NowSetting song-Café Of Lost Dreams-Todtgelichter-AngstSetting song-Wir Müssen Hier Raus-Ton Steine Scherben-Keine Macht für NiemandSetting song-Just Exist-Touché Amoré-Is Survived BySetting song-The Great Repetition-Touché Amoré-Parting the Sea Between Brightness and MeSetting song-Harm Rochel-Turbostaat-Vormann LeissSetting song-Lane Boy-Twenty One Pilots-BlurryfaceSetting song-House Of Gold-Twenty One Pilots-VesselSetting song-I Don't Wanna Be Me-Type O Negative-Life Is Killing MeSetting song-Built To Fail-VETO-Crushing DigitsSetting song-Famous Last Words-Walls of Jericho-The American DreamSetting song-Glühwürmchen-We Butter The Bread With Butter-Der Tag an dem die Welt untergingSetting song-Understanding What We've Grown to Be-We Came As Romans-Understanding What We've Grown To BeSetting song-Archers-Wovenwar-WovenwarSetting song-Is It You-Wumpscut-EmbryodeadSetting song-Idoru-Zanias-Into the AllSetting song-Fractured-Zeromancer-EurotrashSetting song-Scherben-ZSK-Discontent Hearts And Gasoline"
     ]
    }
   ],
   "source": [
    "# persist these to the redis database\n",
    "import redis\n",
    "from utils.redis_utils import TOOLBOX_CONFIG, get_key_from_values\n",
    "conn = redis.Redis(**TOOLBOX_CONFIG)\n",
    "\n",
    "# song key format\n",
    "song_key_format = 'song-{song}-{author}-{album}'\n",
    "\n",
    "# key format\n",
    "for song in songs:\n",
    "    key = get_key_from_values(song_key_format, **song)\n",
    "    print(f'Setting {key}', end='\\r')\n",
    "    conn.hset(key, mapping=song)"
   ],
   "metadata": {
    "collapsed": false,
    "pycharm": {
     "name": "#%%\n"
    }
   }
  },
  {
   "cell_type": "code",
   "execution_count": 10,
   "outputs": [],
   "source": [],
   "metadata": {
    "collapsed": false,
    "pycharm": {
     "name": "#%%\n"
    }
   }
  }
 ],
 "metadata": {
  "kernelspec": {
   "display_name": "Python 3",
   "language": "python",
   "name": "python3"
  },
  "language_info": {
   "codemirror_mode": {
    "name": "ipython",
    "version": 2
   },
   "file_extension": ".py",
   "mimetype": "text/x-python",
   "name": "python",
   "nbconvert_exporter": "python",
   "pygments_lexer": "ipython2",
   "version": "2.7.6"
  }
 },
 "nbformat": 4,
 "nbformat_minor": 0
}